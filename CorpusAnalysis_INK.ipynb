{
 "cells": [
  {
   "cell_type": "markdown",
   "id": "49202c10-b2ef-4bd1-a2a3-2836ddcd593c",
   "metadata": {},
   "source": [
    "# Corpus Analysis on **Ice Nine Kills** Lyrics"
   ]
  },
  {
   "cell_type": "markdown",
   "id": "a473df69-2d7c-4937-bc07-690e4f3cc730",
   "metadata": {},
   "source": [
    "> Conducting Corpus Analysis on the lyrics of the singles off of Ice Nine Kills' two horror themed albums *The Silver Scream* and *The Silver Scream 2: Welcome to Horrorwood*. "
   ]
  },
  {
   "cell_type": "markdown",
   "id": "452e5ceb-3ff2-471c-9b16-3f5ef3005b4b",
   "metadata": {},
   "source": [
    "## Installing, Importing, and Processing"
   ]
  },
  {
   "cell_type": "code",
   "execution_count": 1,
   "id": "7cf08a81-caee-4b37-aab5-22771c21f6a7",
   "metadata": {},
   "outputs": [],
   "source": [
    "%%capture\n",
    "import spacy"
   ]
  },
  {
   "cell_type": "code",
   "execution_count": 2,
   "id": "292aa015-2c77-4d5d-a39a-0544ba0ceb2f",
   "metadata": {},
   "outputs": [],
   "source": [
    "%%capture\n",
    "!spacy download en_core_web_sm"
   ]
  },
  {
   "cell_type": "code",
   "execution_count": 3,
   "id": "88818f6a-c3e4-459f-85e4-7becdae521f4",
   "metadata": {},
   "outputs": [],
   "source": [
    "%%capture\n",
    "import os\n",
    "from spacy import displacy\n",
    "import pandas as pd\n",
    "pd.options.mode.chained_assignment = None \n",
    "import plotly.express as px"
   ]
  },
  {
   "cell_type": "code",
   "execution_count": 4,
   "id": "4e0f6c37-393b-41cc-bd1b-e508dc70237f",
   "metadata": {},
   "outputs": [],
   "source": [
    "lyrics = []\n",
    "file_names = [] \n",
    "\n",
    "for _file_name in os.listdir('/Users/praga/Desktop/Collecting Data/CDResubA2/Data'):\n",
    "    if _file_name.endswith('.txt'):\n",
    "        lyrics.append(open('Data' + '/' + _file_name, 'r', encoding = 'utf-8').read())\n",
    "        file_names.append(_file_name) "
   ]
  },
  {
   "cell_type": "code",
   "execution_count": 5,
   "id": "bb7603a5-a862-4f5a-ad59-033b890df5ad",
   "metadata": {},
   "outputs": [],
   "source": [
    "d = {'Filename': file_names, 'Text': lyrics}"
   ]
  },
  {
   "cell_type": "code",
   "execution_count": 6,
   "id": "a4b700a7-3cd8-4994-9dae-4e2d071831ad",
   "metadata": {},
   "outputs": [],
   "source": [
    "song_df = pd.DataFrame(d)"
   ]
  },
  {
   "cell_type": "code",
   "execution_count": 7,
   "id": "4d32654c-1049-43a3-8ee3-3e9b2e37d47c",
   "metadata": {},
   "outputs": [
    {
     "data": {
      "text/html": [
       "<div>\n",
       "<style scoped>\n",
       "    .dataframe tbody tr th:only-of-type {\n",
       "        vertical-align: middle;\n",
       "    }\n",
       "\n",
       "    .dataframe tbody tr th {\n",
       "        vertical-align: top;\n",
       "    }\n",
       "\n",
       "    .dataframe thead th {\n",
       "        text-align: right;\n",
       "    }\n",
       "</style>\n",
       "<table border=\"1\" class=\"dataframe\">\n",
       "  <thead>\n",
       "    <tr style=\"text-align: right;\">\n",
       "      <th></th>\n",
       "      <th>Filename</th>\n",
       "      <th>Text</th>\n",
       "    </tr>\n",
       "  </thead>\n",
       "  <tbody>\n",
       "    <tr>\n",
       "      <th>0</th>\n",
       "      <td>american_nightmare.txt</td>\n",
       "      <td>Getting ready for bed at a regular time\\nIs on...</td>\n",
       "    </tr>\n",
       "    <tr>\n",
       "      <th>1</th>\n",
       "      <td>assault_n_batteries.txt</td>\n",
       "      <td>Breaking news alert\\nA deadly shootout at a lo...</td>\n",
       "    </tr>\n",
       "    <tr>\n",
       "      <th>2</th>\n",
       "      <td>enjoy_your_slay.txt</td>\n",
       "      <td>Going down, sir? (Indeed)\\nHere you are\\nPlagu...</td>\n",
       "    </tr>\n",
       "    <tr>\n",
       "      <th>3</th>\n",
       "      <td>funeral_derangements.txt</td>\n",
       "      <td>Slave to the plot, let them rot\\nOr bring them...</td>\n",
       "    </tr>\n",
       "    <tr>\n",
       "      <th>4</th>\n",
       "      <td>grave_mistake.txt</td>\n",
       "      <td>Here lies a lifeless bride and groom\\nTill dea...</td>\n",
       "    </tr>\n",
       "  </tbody>\n",
       "</table>\n",
       "</div>"
      ],
      "text/plain": [
       "                   Filename                                               Text\n",
       "0    american_nightmare.txt  Getting ready for bed at a regular time\\nIs on...\n",
       "1   assault_n_batteries.txt  Breaking news alert\\nA deadly shootout at a lo...\n",
       "2       enjoy_your_slay.txt  Going down, sir? (Indeed)\\nHere you are\\nPlagu...\n",
       "3  funeral_derangements.txt  Slave to the plot, let them rot\\nOr bring them...\n",
       "4         grave_mistake.txt  Here lies a lifeless bride and groom\\nTill dea..."
      ]
     },
     "execution_count": 7,
     "metadata": {},
     "output_type": "execute_result"
    }
   ],
   "source": [
    "song_df.head()"
   ]
  },
  {
   "cell_type": "code",
   "execution_count": 8,
   "id": "ed64fb4c-6139-4b8e-98b6-cd8a055731c8",
   "metadata": {},
   "outputs": [
    {
     "data": {
      "text/html": [
       "<div>\n",
       "<style scoped>\n",
       "    .dataframe tbody tr th:only-of-type {\n",
       "        vertical-align: middle;\n",
       "    }\n",
       "\n",
       "    .dataframe tbody tr th {\n",
       "        vertical-align: top;\n",
       "    }\n",
       "\n",
       "    .dataframe thead th {\n",
       "        text-align: right;\n",
       "    }\n",
       "</style>\n",
       "<table border=\"1\" class=\"dataframe\">\n",
       "  <thead>\n",
       "    <tr style=\"text-align: right;\">\n",
       "      <th></th>\n",
       "      <th>Filename</th>\n",
       "      <th>Text</th>\n",
       "    </tr>\n",
       "  </thead>\n",
       "  <tbody>\n",
       "    <tr>\n",
       "      <th>0</th>\n",
       "      <td>american_nightmare.txt</td>\n",
       "      <td>Getting ready for bed at a regular time Is one...</td>\n",
       "    </tr>\n",
       "    <tr>\n",
       "      <th>1</th>\n",
       "      <td>assault_n_batteries.txt</td>\n",
       "      <td>Breaking news alert A deadly shootout at a loc...</td>\n",
       "    </tr>\n",
       "    <tr>\n",
       "      <th>2</th>\n",
       "      <td>enjoy_your_slay.txt</td>\n",
       "      <td>Going down, sir? (Indeed) Here you are Plagued...</td>\n",
       "    </tr>\n",
       "    <tr>\n",
       "      <th>3</th>\n",
       "      <td>funeral_derangements.txt</td>\n",
       "      <td>Slave to the plot, let them rot Or bring them ...</td>\n",
       "    </tr>\n",
       "    <tr>\n",
       "      <th>4</th>\n",
       "      <td>grave_mistake.txt</td>\n",
       "      <td>Here lies a lifeless bride and groom Till deat...</td>\n",
       "    </tr>\n",
       "  </tbody>\n",
       "</table>\n",
       "</div>"
      ],
      "text/plain": [
       "                   Filename                                               Text\n",
       "0    american_nightmare.txt  Getting ready for bed at a regular time Is one...\n",
       "1   assault_n_batteries.txt  Breaking news alert A deadly shootout at a loc...\n",
       "2       enjoy_your_slay.txt  Going down, sir? (Indeed) Here you are Plagued...\n",
       "3  funeral_derangements.txt  Slave to the plot, let them rot Or bring them ...\n",
       "4         grave_mistake.txt  Here lies a lifeless bride and groom Till deat..."
      ]
     },
     "execution_count": 8,
     "metadata": {},
     "output_type": "execute_result"
    }
   ],
   "source": [
    "song_df['Text'] = song_df['Text'].str.replace('\\n', ' ', regex = True).str.strip()\n",
    "song_df.head()"
   ]
  },
  {
   "cell_type": "code",
   "execution_count": 9,
   "id": "12c15152-91ee-4b16-bd65-f4d9187c7f77",
   "metadata": {},
   "outputs": [],
   "source": [
    "metadata_df = pd.read_csv('metadata.csv')"
   ]
  },
  {
   "cell_type": "code",
   "execution_count": 10,
   "id": "1016f156-3475-4df3-a77f-da0b7fa13a3d",
   "metadata": {},
   "outputs": [
    {
     "data": {
      "text/html": [
       "<div>\n",
       "<style scoped>\n",
       "    .dataframe tbody tr th:only-of-type {\n",
       "        vertical-align: middle;\n",
       "    }\n",
       "\n",
       "    .dataframe tbody tr th {\n",
       "        vertical-align: top;\n",
       "    }\n",
       "\n",
       "    .dataframe thead th {\n",
       "        text-align: right;\n",
       "    }\n",
       "</style>\n",
       "<table border=\"1\" class=\"dataframe\">\n",
       "  <thead>\n",
       "    <tr style=\"text-align: right;\">\n",
       "      <th></th>\n",
       "      <th>Filename</th>\n",
       "      <th>Title</th>\n",
       "      <th>Track Listing</th>\n",
       "      <th>Song Length</th>\n",
       "      <th>Release Date</th>\n",
       "      <th>Album</th>\n",
       "      <th>Horror Reference</th>\n",
       "      <th>Lyric Source</th>\n",
       "    </tr>\n",
       "  </thead>\n",
       "  <tbody>\n",
       "    <tr>\n",
       "      <th>0</th>\n",
       "      <td>american_nightmare.txt</td>\n",
       "      <td>The American Nightmare</td>\n",
       "      <td>1</td>\n",
       "      <td>4:11</td>\n",
       "      <td>20-06-2018</td>\n",
       "      <td>The Silver Scream</td>\n",
       "      <td>A Nightmare on Elm Street</td>\n",
       "      <td>LyricFind</td>\n",
       "    </tr>\n",
       "    <tr>\n",
       "      <th>1</th>\n",
       "      <td>thank_god_its_friday.txt</td>\n",
       "      <td>Thank God It's Friday</td>\n",
       "      <td>2</td>\n",
       "      <td>4:24</td>\n",
       "      <td>13-07-2018</td>\n",
       "      <td>The Silver Scream</td>\n",
       "      <td>Friday the 13th</td>\n",
       "      <td>LyricFind</td>\n",
       "    </tr>\n",
       "    <tr>\n",
       "      <th>2</th>\n",
       "      <td>enjoy_your_slay.txt</td>\n",
       "      <td>Enjoy Your Slay (featuring Sam Kubrick of Shie...</td>\n",
       "      <td>8</td>\n",
       "      <td>4:16</td>\n",
       "      <td>26-05-2017</td>\n",
       "      <td>The Silver Scream</td>\n",
       "      <td>The Shining</td>\n",
       "      <td>musixmatch</td>\n",
       "    </tr>\n",
       "    <tr>\n",
       "      <th>3</th>\n",
       "      <td>grave_mistake.txt</td>\n",
       "      <td>A Grave Mistake</td>\n",
       "      <td>6</td>\n",
       "      <td>3:04</td>\n",
       "      <td>14-09-2018</td>\n",
       "      <td>The Silver Scream</td>\n",
       "      <td>The Crow</td>\n",
       "      <td>musixmatch</td>\n",
       "    </tr>\n",
       "    <tr>\n",
       "      <th>4</th>\n",
       "      <td>stabbing_in_the_dark.txt</td>\n",
       "      <td>Stabbing in the Dark</td>\n",
       "      <td>3</td>\n",
       "      <td>4:36</td>\n",
       "      <td>19-10-2018</td>\n",
       "      <td>The Silver Scream</td>\n",
       "      <td>Halloween</td>\n",
       "      <td>musixmatch</td>\n",
       "    </tr>\n",
       "  </tbody>\n",
       "</table>\n",
       "</div>"
      ],
      "text/plain": [
       "                   Filename  \\\n",
       "0    american_nightmare.txt   \n",
       "1  thank_god_its_friday.txt   \n",
       "2       enjoy_your_slay.txt   \n",
       "3         grave_mistake.txt   \n",
       "4  stabbing_in_the_dark.txt   \n",
       "\n",
       "                                               Title  Track Listing  \\\n",
       "0                             The American Nightmare              1   \n",
       "1                              Thank God It's Friday              2   \n",
       "2  Enjoy Your Slay (featuring Sam Kubrick of Shie...              8   \n",
       "3                                    A Grave Mistake              6   \n",
       "4                               Stabbing in the Dark              3   \n",
       "\n",
       "  Song Length Release Date             Album            Horror Reference  \\\n",
       "0        4:11   20-06-2018  The Silver Scream  A Nightmare on Elm Street   \n",
       "1        4:24   13-07-2018  The Silver Scream            Friday the 13th   \n",
       "2        4:16   26-05-2017  The Silver Scream                The Shining   \n",
       "3        3:04   14-09-2018  The Silver Scream                   The Crow   \n",
       "4        4:36   19-10-2018  The Silver Scream                  Halloween   \n",
       "\n",
       "  Lyric Source  \n",
       "0    LyricFind  \n",
       "1    LyricFind  \n",
       "2   musixmatch  \n",
       "3   musixmatch  \n",
       "4   musixmatch  "
      ]
     },
     "execution_count": 10,
     "metadata": {},
     "output_type": "execute_result"
    }
   ],
   "source": [
    "metadata_df.head()"
   ]
  },
  {
   "cell_type": "code",
   "execution_count": 11,
   "id": "fd8f3e5a-b337-4a62-8ed1-556e1f174b2e",
   "metadata": {},
   "outputs": [],
   "source": [
    "song_df['Filename'] = song_df['Filename'].str.replace('.txt', '', regex=True)\n",
    "#since title in metadata is not the same as filename, take out .txt in metadata df as well\n",
    "metadata_df['Filename'] = metadata_df['Filename'].str.replace('.txt', '', regex=True)"
   ]
  },
  {
   "cell_type": "code",
   "execution_count": 12,
   "id": "96becb81-806f-4813-89d0-bd2a632e3f18",
   "metadata": {},
   "outputs": [],
   "source": [
    "playlist_df = metadata_df.merge(song_df, on = 'Filename')"
   ]
  },
  {
   "cell_type": "code",
   "execution_count": 13,
   "id": "76e63b94-d310-498a-9f19-09df8f9671aa",
   "metadata": {},
   "outputs": [
    {
     "data": {
      "text/html": [
       "<div>\n",
       "<style scoped>\n",
       "    .dataframe tbody tr th:only-of-type {\n",
       "        vertical-align: middle;\n",
       "    }\n",
       "\n",
       "    .dataframe tbody tr th {\n",
       "        vertical-align: top;\n",
       "    }\n",
       "\n",
       "    .dataframe thead th {\n",
       "        text-align: right;\n",
       "    }\n",
       "</style>\n",
       "<table border=\"1\" class=\"dataframe\">\n",
       "  <thead>\n",
       "    <tr style=\"text-align: right;\">\n",
       "      <th></th>\n",
       "      <th>Filename</th>\n",
       "      <th>Title</th>\n",
       "      <th>Track Listing</th>\n",
       "      <th>Song Length</th>\n",
       "      <th>Release Date</th>\n",
       "      <th>Album</th>\n",
       "      <th>Horror Reference</th>\n",
       "      <th>Lyric Source</th>\n",
       "      <th>Text</th>\n",
       "    </tr>\n",
       "  </thead>\n",
       "  <tbody>\n",
       "    <tr>\n",
       "      <th>0</th>\n",
       "      <td>american_nightmare</td>\n",
       "      <td>The American Nightmare</td>\n",
       "      <td>1</td>\n",
       "      <td>4:11</td>\n",
       "      <td>20-06-2018</td>\n",
       "      <td>The Silver Scream</td>\n",
       "      <td>A Nightmare on Elm Street</td>\n",
       "      <td>LyricFind</td>\n",
       "      <td>Getting ready for bed at a regular time Is one...</td>\n",
       "    </tr>\n",
       "    <tr>\n",
       "      <th>1</th>\n",
       "      <td>thank_god_its_friday</td>\n",
       "      <td>Thank God It's Friday</td>\n",
       "      <td>2</td>\n",
       "      <td>4:24</td>\n",
       "      <td>13-07-2018</td>\n",
       "      <td>The Silver Scream</td>\n",
       "      <td>Friday the 13th</td>\n",
       "      <td>LyricFind</td>\n",
       "      <td>He drowned in all our sins He drowned in our m...</td>\n",
       "    </tr>\n",
       "    <tr>\n",
       "      <th>2</th>\n",
       "      <td>enjoy_your_slay</td>\n",
       "      <td>Enjoy Your Slay (featuring Sam Kubrick of Shie...</td>\n",
       "      <td>8</td>\n",
       "      <td>4:16</td>\n",
       "      <td>26-05-2017</td>\n",
       "      <td>The Silver Scream</td>\n",
       "      <td>The Shining</td>\n",
       "      <td>musixmatch</td>\n",
       "      <td>Going down, sir? (Indeed) Here you are Plagued...</td>\n",
       "    </tr>\n",
       "    <tr>\n",
       "      <th>3</th>\n",
       "      <td>grave_mistake</td>\n",
       "      <td>A Grave Mistake</td>\n",
       "      <td>6</td>\n",
       "      <td>3:04</td>\n",
       "      <td>14-09-2018</td>\n",
       "      <td>The Silver Scream</td>\n",
       "      <td>The Crow</td>\n",
       "      <td>musixmatch</td>\n",
       "      <td>Here lies a lifeless bride and groom Till deat...</td>\n",
       "    </tr>\n",
       "    <tr>\n",
       "      <th>4</th>\n",
       "      <td>stabbing_in_the_dark</td>\n",
       "      <td>Stabbing in the Dark</td>\n",
       "      <td>3</td>\n",
       "      <td>4:36</td>\n",
       "      <td>19-10-2018</td>\n",
       "      <td>The Silver Scream</td>\n",
       "      <td>Halloween</td>\n",
       "      <td>musixmatch</td>\n",
       "      <td>In calculated silence Captivated by the violen...</td>\n",
       "    </tr>\n",
       "  </tbody>\n",
       "</table>\n",
       "</div>"
      ],
      "text/plain": [
       "               Filename                                              Title  \\\n",
       "0    american_nightmare                             The American Nightmare   \n",
       "1  thank_god_its_friday                              Thank God It's Friday   \n",
       "2       enjoy_your_slay  Enjoy Your Slay (featuring Sam Kubrick of Shie...   \n",
       "3         grave_mistake                                    A Grave Mistake   \n",
       "4  stabbing_in_the_dark                               Stabbing in the Dark   \n",
       "\n",
       "   Track Listing Song Length Release Date             Album   \\\n",
       "0              1        4:11   20-06-2018  The Silver Scream   \n",
       "1              2        4:24   13-07-2018  The Silver Scream   \n",
       "2              8        4:16   26-05-2017  The Silver Scream   \n",
       "3              6        3:04   14-09-2018  The Silver Scream   \n",
       "4              3        4:36   19-10-2018  The Silver Scream   \n",
       "\n",
       "            Horror Reference Lyric Source  \\\n",
       "0  A Nightmare on Elm Street    LyricFind   \n",
       "1            Friday the 13th    LyricFind   \n",
       "2                The Shining   musixmatch   \n",
       "3                   The Crow   musixmatch   \n",
       "4                  Halloween   musixmatch   \n",
       "\n",
       "                                                Text  \n",
       "0  Getting ready for bed at a regular time Is one...  \n",
       "1  He drowned in all our sins He drowned in our m...  \n",
       "2  Going down, sir? (Indeed) Here you are Plagued...  \n",
       "3  Here lies a lifeless bride and groom Till deat...  \n",
       "4  In calculated silence Captivated by the violen...  "
      ]
     },
     "execution_count": 13,
     "metadata": {},
     "output_type": "execute_result"
    }
   ],
   "source": [
    "playlist_df.head()"
   ]
  },
  {
   "cell_type": "markdown",
   "id": "8505d936-14e8-4352-b197-74ffaeed2061",
   "metadata": {},
   "source": [
    "## Text Enrichment with spaCy"
   ]
  },
  {
   "cell_type": "code",
   "execution_count": 14,
   "id": "d6538207-981d-433c-87a6-fb8597a8c685",
   "metadata": {},
   "outputs": [
    {
     "name": "stdout",
     "output_type": "stream",
     "text": [
      "['tok2vec', 'tagger', 'parser', 'attribute_ruler', 'lemmatizer', 'ner']\n"
     ]
    }
   ],
   "source": [
    "nlp = spacy.load('en_core_web_sm')\n",
    "print(nlp.pipe_names)"
   ]
  },
  {
   "cell_type": "code",
   "execution_count": 15,
   "id": "2abb042c-30c9-4b49-ba73-b59f077d77b1",
   "metadata": {},
   "outputs": [],
   "source": [
    "def process_lyrics(text):\n",
    "    return nlp(text)"
   ]
  },
  {
   "cell_type": "code",
   "execution_count": 16,
   "id": "920ef597-6c63-4067-9765-3c5fdbbf6927",
   "metadata": {},
   "outputs": [],
   "source": [
    "playlist_df['Doc'] = playlist_df['Text'].apply(process_lyrics)"
   ]
  },
  {
   "cell_type": "markdown",
   "id": "eadc3dda-d32e-45ea-b400-50f74b3e23df",
   "metadata": {},
   "source": [
    "## Text Reduction"
   ]
  },
  {
   "cell_type": "markdown",
   "id": "d88e408b-02d5-440c-949f-bcb472e77a71",
   "metadata": {},
   "source": [
    "### Tokenization"
   ]
  },
  {
   "cell_type": "code",
   "execution_count": 17,
   "id": "a60b4df3-f8fe-4f50-955a-b19469737629",
   "metadata": {},
   "outputs": [],
   "source": [
    "def get_token(doc):\n",
    "    return[(token.text) for token in doc]"
   ]
  },
  {
   "cell_type": "code",
   "execution_count": 18,
   "id": "24a6462d-86b5-4f3d-bcbb-c1fbd042b81d",
   "metadata": {},
   "outputs": [],
   "source": [
    "playlist_df['Tokens'] = playlist_df['Doc'].apply(get_token)"
   ]
  },
  {
   "cell_type": "code",
   "execution_count": 19,
   "id": "9af962c2-2563-461c-ba09-5d4e431573f3",
   "metadata": {},
   "outputs": [
    {
     "data": {
      "text/html": [
       "<div>\n",
       "<style scoped>\n",
       "    .dataframe tbody tr th:only-of-type {\n",
       "        vertical-align: middle;\n",
       "    }\n",
       "\n",
       "    .dataframe tbody tr th {\n",
       "        vertical-align: top;\n",
       "    }\n",
       "\n",
       "    .dataframe thead th {\n",
       "        text-align: right;\n",
       "    }\n",
       "</style>\n",
       "<table border=\"1\" class=\"dataframe\">\n",
       "  <thead>\n",
       "    <tr style=\"text-align: right;\">\n",
       "      <th></th>\n",
       "      <th>Text</th>\n",
       "      <th>Tokens</th>\n",
       "    </tr>\n",
       "  </thead>\n",
       "  <tbody>\n",
       "    <tr>\n",
       "      <th>0</th>\n",
       "      <td>Getting ready for bed at a regular time Is one...</td>\n",
       "      <td>[Getting, ready, for, bed, at, a, regular, tim...</td>\n",
       "    </tr>\n",
       "    <tr>\n",
       "      <th>1</th>\n",
       "      <td>He drowned in all our sins He drowned in our m...</td>\n",
       "      <td>[He, drowned, in, all, our, sins, He, drowned,...</td>\n",
       "    </tr>\n",
       "    <tr>\n",
       "      <th>2</th>\n",
       "      <td>Going down, sir? (Indeed) Here you are Plagued...</td>\n",
       "      <td>[Going, down, ,, sir, ?, (, Indeed, ), Here, y...</td>\n",
       "    </tr>\n",
       "    <tr>\n",
       "      <th>3</th>\n",
       "      <td>Here lies a lifeless bride and groom Till deat...</td>\n",
       "      <td>[Here, lies, a, lifeless, bride, and, groom, T...</td>\n",
       "    </tr>\n",
       "    <tr>\n",
       "      <th>4</th>\n",
       "      <td>In calculated silence Captivated by the violen...</td>\n",
       "      <td>[In, calculated, silence, Captivated, by, the,...</td>\n",
       "    </tr>\n",
       "  </tbody>\n",
       "</table>\n",
       "</div>"
      ],
      "text/plain": [
       "                                                Text  \\\n",
       "0  Getting ready for bed at a regular time Is one...   \n",
       "1  He drowned in all our sins He drowned in our m...   \n",
       "2  Going down, sir? (Indeed) Here you are Plagued...   \n",
       "3  Here lies a lifeless bride and groom Till deat...   \n",
       "4  In calculated silence Captivated by the violen...   \n",
       "\n",
       "                                              Tokens  \n",
       "0  [Getting, ready, for, bed, at, a, regular, tim...  \n",
       "1  [He, drowned, in, all, our, sins, He, drowned,...  \n",
       "2  [Going, down, ,, sir, ?, (, Indeed, ), Here, y...  \n",
       "3  [Here, lies, a, lifeless, bride, and, groom, T...  \n",
       "4  [In, calculated, silence, Captivated, by, the,...  "
      ]
     },
     "execution_count": 19,
     "metadata": {},
     "output_type": "execute_result"
    }
   ],
   "source": [
    "tokens = playlist_df[['Text', 'Tokens']].copy()\n",
    "tokens.head()"
   ]
  },
  {
   "cell_type": "markdown",
   "id": "20d42f45-e43c-44dd-ab85-97cec4e733ab",
   "metadata": {},
   "source": [
    "### Lemmatization"
   ]
  },
  {
   "cell_type": "code",
   "execution_count": 20,
   "id": "0519583a-1e02-4d54-8bab-6d6715489f02",
   "metadata": {},
   "outputs": [],
   "source": [
    "def get_lemma(doc):\n",
    "    return[(token.lemma_) for token in doc] "
   ]
  },
  {
   "cell_type": "code",
   "execution_count": 21,
   "id": "468707ae-b209-4945-a072-2bb2a2952b60",
   "metadata": {},
   "outputs": [],
   "source": [
    "playlist_df['Lemmas'] = playlist_df['Doc'].apply(get_lemma)"
   ]
  },
  {
   "cell_type": "markdown",
   "id": "00b9f953-2bab-476d-96ad-97b47c598fa1",
   "metadata": {},
   "source": [
    "## Text Annotation"
   ]
  },
  {
   "cell_type": "markdown",
   "id": "2e7a9a56-c9c8-438a-b3dc-f7f24d1353c5",
   "metadata": {},
   "source": [
    "### Parts of Speech (POS) Tagging"
   ]
  },
  {
   "cell_type": "code",
   "execution_count": 22,
   "id": "6a975954-ac3a-437b-b3c6-eebdba156812",
   "metadata": {},
   "outputs": [],
   "source": [
    "def get_pos(doc): \n",
    "    return[(token.pos_, token.tag_) for token in doc]"
   ]
  },
  {
   "cell_type": "code",
   "execution_count": 23,
   "id": "51323c7a-77b3-402e-b1df-872d498e0485",
   "metadata": {},
   "outputs": [],
   "source": [
    "playlist_df['POS'] = playlist_df['Doc'].apply(get_pos) "
   ]
  },
  {
   "cell_type": "code",
   "execution_count": 24,
   "id": "9139d19f-8f4f-424a-a136-4a704ce3e903",
   "metadata": {},
   "outputs": [],
   "source": [
    "def extract_proper_nouns(doc):\n",
    "    return[token.text for token in doc if token.pos_ == 'PROPN'] "
   ]
  },
  {
   "cell_type": "code",
   "execution_count": 25,
   "id": "c7352dc8-c978-46a1-890f-f09f3d250634",
   "metadata": {},
   "outputs": [],
   "source": [
    "playlist_df['Proper_Nouns'] = playlist_df['Doc'].apply(extract_proper_nouns) "
   ]
  },
  {
   "cell_type": "code",
   "execution_count": 26,
   "id": "f8639fdd-03e6-492c-9b52-9836270f1fd1",
   "metadata": {},
   "outputs": [
    {
     "data": {
      "text/plain": [
       "[['David', 'Dreams', 'Craven', 'Sweet', 'Wicked', 'morgue', 'Five', 'Seven'],\n",
       " ['Fall',\n",
       "  'Haddonfield',\n",
       "  'Knife',\n",
       "  'Day',\n",
       "  'Knife',\n",
       "  'Fall',\n",
       "  'Scream',\n",
       "  'Halloween',\n",
       "  'Fall',\n",
       "  'Orange',\n",
       "  'Grove',\n",
       "  'Ave',\n",
       "  'Suspect',\n",
       "  'Michael',\n",
       "  'Myers',\n",
       "  'Michael',\n",
       "  'Fall']]"
      ]
     },
     "execution_count": 26,
     "metadata": {},
     "output_type": "execute_result"
    }
   ],
   "source": [
    "#testing progress\n",
    "list(playlist_df.loc[[0, 4], 'Proper_Nouns'])"
   ]
  },
  {
   "cell_type": "markdown",
   "id": "40ab1045-5b0f-4806-b5be-f554c4c5a213",
   "metadata": {},
   "source": [
    "# Analysis of the Corpus"
   ]
  },
  {
   "cell_type": "markdown",
   "id": "2f2c3b72-8a8e-4180-99e9-4db11ef813ef",
   "metadata": {},
   "source": [
    "From the above demonstration it's clear to see that the examination of proper nouns in each of the songs would allow any avid horror-media fan to guess with a high accuracy the inspiration behind the song even without listening to the song itself. Some cult classic-inspired songs could also be easily identifiable to most people simply because of how pervasive the media piece was and how commonly it is referenced now. \n",
    "\n",
    "Named Entity Recognition (NER) can help similarly in a more sophisticated way to answer the following question(s): \n",
    "How many times does each song reference a person, place, and time? And which song has the most references to a person, place, or time? "
   ]
  },
  {
   "cell_type": "markdown",
   "id": "9e6cf368-9664-4c9a-9d59-74525546f3ca",
   "metadata": {},
   "source": [
    "## NER and Annotation Analysis"
   ]
  },
  {
   "cell_type": "code",
   "execution_count": 27,
   "id": "49df5273-6ae0-46af-bf6c-7eaab4dcf2e3",
   "metadata": {},
   "outputs": [
    {
     "name": "stdout",
     "output_type": "stream",
     "text": [
      "CARDINAL : Numerals that do not fall under another type\n",
      "DATE : Absolute or relative dates or periods\n",
      "EVENT : Named hurricanes, battles, wars, sports events, etc.\n",
      "FAC : Buildings, airports, highways, bridges, etc.\n",
      "GPE : Countries, cities, states\n",
      "LANGUAGE : Any named language\n",
      "LAW : Named documents made into laws.\n",
      "LOC : Non-GPE locations, mountain ranges, bodies of water\n",
      "MONEY : Monetary values, including unit\n",
      "NORP : Nationalities or religious or political groups\n",
      "ORDINAL : \"first\", \"second\", etc.\n",
      "ORG : Companies, agencies, institutions, etc.\n",
      "PERCENT : Percentage, including \"%\"\n",
      "PERSON : People, including fictional\n",
      "PRODUCT : Objects, vehicles, foods, etc. (not services)\n",
      "QUANTITY : Measurements, as of weight or distance\n",
      "TIME : Times smaller than a day\n",
      "WORK_OF_ART : Titles of books, songs, etc.\n"
     ]
    }
   ],
   "source": [
    "labels = nlp.get_pipe(\"ner\").labels\n",
    "for label in labels:\n",
    "    print(label + ' : ' + spacy.explain(label))"
   ]
  },
  {
   "cell_type": "code",
   "execution_count": 28,
   "id": "3eace2a1-7e0b-4186-a5e2-1d4efc31c359",
   "metadata": {},
   "outputs": [
    {
     "data": {
      "text/plain": [
       "0     [PERSON, PERSON, PERSON, PRODUCT, TIME, NORP, ...\n",
       "1     [LOC, NORP, DATE, LOC, LOC, DATE, PERSON, DATE...\n",
       "2     [ORG, CARDINAL, PERSON, CARDINAL, DATE, PERSON...\n",
       "3                                        [PERSON, DATE]\n",
       "4     [DATE, TIME, ORG, PERSON, TIME, PERSON, TIME, ...\n",
       "5     [ORG, TIME, DATE, ORDINAL, ORG, DATE, ORG, TIM...\n",
       "6     [PERSON, PERSON, PERSON, PERSON, PERSON, PERSO...\n",
       "7     [PERSON, PERSON, PERSON, PERSON, PERSON, DATE,...\n",
       "8     [PRODUCT, PERSON, CARDINAL, PERSON, NORP, PERS...\n",
       "9     [CARDINAL, DATE, PERSON, QUANTITY, CARDINAL, C...\n",
       "10                                         [DATE, DATE]\n",
       "11             [ORG, TIME, PRODUCT, PERSON, TIME, TIME]\n",
       "12    [ORDINAL, CARDINAL, WORK_OF_ART, PERSON, CARDI...\n",
       "13    [TIME, TIME, CARDINAL, WORK_OF_ART, TIME, TIME...\n",
       "14        [WORK_OF_ART, PERSON, PERSON, PERSON, PERSON]\n",
       "Name: Named_Entities, dtype: object"
      ]
     },
     "execution_count": 28,
     "metadata": {},
     "output_type": "execute_result"
    }
   ],
   "source": [
    "def extract_named_entities(doc):\n",
    "    return [ent.label_ for ent in doc.ents]\n",
    "\n",
    "playlist_df['Named_Entities'] = playlist_df['Doc'].apply(extract_named_entities)\n",
    "playlist_df['Named_Entities']"
   ]
  },
  {
   "cell_type": "code",
   "execution_count": 29,
   "id": "aa83a4bf-b8be-4147-8f60-73ec340ae7a3",
   "metadata": {},
   "outputs": [
    {
     "data": {
      "text/plain": [
       "0     [(David), (Makes), (Rest), (Craven), (night), ...\n",
       "1     [(Crystal, Lake, Ki, -, Ki, -, Ki), (Throats),...\n",
       "2     [(Lies), (one), (Cursed), (One), (five, -, yea...\n",
       "3                                    [(Payback), (May)]\n",
       "4     [(Fifteen, years, ago), (the, midnight, hour),...\n",
       "5     [(Santa, Clause), (tonight), (five, years, old...\n",
       "6     [(Eating), (Villains), (Eating), (Villains), (...\n",
       "7     [(Georgie, You), (Pick), (Prey), (Georgie), (D...\n",
       "8     [(Valentino), (gore), (spleens), (Devil), (Ame...\n",
       "9     [(one), (the, day), (Andy), (two, -, foot), (O...\n",
       "10             [(a, rainy, day, Fall), (a, rainy, day)]\n",
       "11    [(Yeah, Sometimes, Sometimes), (tonight), (Spa...\n",
       "12    [(14th), (more, than, one), (Love), (Blunt), (...\n",
       "13    [(tonight), (tonight), (one), (Listen, to, Mot...\n",
       "14    [(Cut), (Horrorwood), (Horrorwood), (Silver, S...\n",
       "Name: NE_Words, dtype: object"
      ]
     },
     "execution_count": 29,
     "metadata": {},
     "output_type": "execute_result"
    }
   ],
   "source": [
    "def extract_named_entities(doc):\n",
    "    return [ent for ent in doc.ents]\n",
    "\n",
    "playlist_df['NE_Words'] = playlist_df['Doc'].apply(extract_named_entities)\n",
    "playlist_df['NE_Words']"
   ]
  },
  {
   "cell_type": "code",
   "execution_count": 30,
   "id": "ccd210f6-e8ce-4904-9ad5-762caac2cb66",
   "metadata": {},
   "outputs": [],
   "source": [
    "# Define a function to count the named entity types\n",
    "def count_entity_types(entities, entity_types):\n",
    "    # Initialize counters\n",
    "    person_count = 0\n",
    "    place_count = 0\n",
    "    time_count = 0\n",
    "    \n",
    "    # Loop through the entity types and count\n",
    "    for entity_type in entity_types:\n",
    "        if entity_type == 'PERSON':\n",
    "            person_count += 1\n",
    "        elif entity_type == 'LOC':  # lOC refs non-GPE (Geopolitical Entity) refers to places (cities, countries, etc.)\n",
    "            place_count += 1\n",
    "        elif entity_type == 'DATE':  # Assuming 'DATE' and 'TIME' are both time references\n",
    "            time_count += 1\n",
    "        elif entity_type == 'TIME':\n",
    "            time_count += 1\n",
    "    \n",
    "    return person_count, place_count, time_count\n",
    "\n",
    "# Apply the function to each row and store the results\n",
    "playlist_df[['person_count', 'place_count', 'time_count']] = playlist_df.apply(\n",
    "    lambda row: pd.Series(count_entity_types(row['NE_Words'], row['Named_Entities'])),\n",
    "    axis=1\n",
    ")\n",
    "\n",
    "# Show the DataFrame section with the counts\n",
    "title = playlist_df.columns[1]\n",
    "counts = playlist_df.columns[-3:]\n",
    "\n",
    "# Create the new DataFrame\n",
    "count_df = playlist_df[[title] + list(counts)]\n"
   ]
  },
  {
   "cell_type": "markdown",
   "id": "abd34297-23a9-4052-b19a-162b81515aa0",
   "metadata": {},
   "source": [
    "### Results"
   ]
  },
  {
   "cell_type": "code",
   "execution_count": 31,
   "id": "ec8d01d4-e5a5-47c7-bcf0-e286e7b1e3ee",
   "metadata": {},
   "outputs": [
    {
     "data": {
      "text/html": [
       "<div>\n",
       "<style scoped>\n",
       "    .dataframe tbody tr th:only-of-type {\n",
       "        vertical-align: middle;\n",
       "    }\n",
       "\n",
       "    .dataframe tbody tr th {\n",
       "        vertical-align: top;\n",
       "    }\n",
       "\n",
       "    .dataframe thead th {\n",
       "        text-align: right;\n",
       "    }\n",
       "</style>\n",
       "<table border=\"1\" class=\"dataframe\">\n",
       "  <thead>\n",
       "    <tr style=\"text-align: right;\">\n",
       "      <th></th>\n",
       "      <th>Title</th>\n",
       "      <th>person_count</th>\n",
       "      <th>place_count</th>\n",
       "      <th>time_count</th>\n",
       "    </tr>\n",
       "  </thead>\n",
       "  <tbody>\n",
       "    <tr>\n",
       "      <th>0</th>\n",
       "      <td>The American Nightmare</td>\n",
       "      <td>4</td>\n",
       "      <td>0</td>\n",
       "      <td>4</td>\n",
       "    </tr>\n",
       "    <tr>\n",
       "      <th>1</th>\n",
       "      <td>Thank God It's Friday</td>\n",
       "      <td>3</td>\n",
       "      <td>8</td>\n",
       "      <td>6</td>\n",
       "    </tr>\n",
       "    <tr>\n",
       "      <th>2</th>\n",
       "      <td>Enjoy Your Slay (featuring Sam Kubrick of Shie...</td>\n",
       "      <td>5</td>\n",
       "      <td>0</td>\n",
       "      <td>1</td>\n",
       "    </tr>\n",
       "    <tr>\n",
       "      <th>3</th>\n",
       "      <td>A Grave Mistake</td>\n",
       "      <td>1</td>\n",
       "      <td>0</td>\n",
       "      <td>1</td>\n",
       "    </tr>\n",
       "    <tr>\n",
       "      <th>4</th>\n",
       "      <td>Stabbing in the Dark</td>\n",
       "      <td>5</td>\n",
       "      <td>0</td>\n",
       "      <td>7</td>\n",
       "    </tr>\n",
       "    <tr>\n",
       "      <th>5</th>\n",
       "      <td>Merry Axe-mas</td>\n",
       "      <td>2</td>\n",
       "      <td>0</td>\n",
       "      <td>14</td>\n",
       "    </tr>\n",
       "    <tr>\n",
       "      <th>6</th>\n",
       "      <td>Savages</td>\n",
       "      <td>10</td>\n",
       "      <td>0</td>\n",
       "      <td>0</td>\n",
       "    </tr>\n",
       "    <tr>\n",
       "      <th>7</th>\n",
       "      <td>IT Is The End (featuring Peter \"JR\" Wasilewski...</td>\n",
       "      <td>7</td>\n",
       "      <td>0</td>\n",
       "      <td>2</td>\n",
       "    </tr>\n",
       "    <tr>\n",
       "      <th>8</th>\n",
       "      <td>Hip to Be Scared (featuring Jacoby Shaddix)</td>\n",
       "      <td>8</td>\n",
       "      <td>0</td>\n",
       "      <td>0</td>\n",
       "    </tr>\n",
       "    <tr>\n",
       "      <th>9</th>\n",
       "      <td>Assault &amp; Batteries</td>\n",
       "      <td>4</td>\n",
       "      <td>0</td>\n",
       "      <td>1</td>\n",
       "    </tr>\n",
       "    <tr>\n",
       "      <th>10</th>\n",
       "      <td>Rainy Day</td>\n",
       "      <td>0</td>\n",
       "      <td>0</td>\n",
       "      <td>2</td>\n",
       "    </tr>\n",
       "    <tr>\n",
       "      <th>11</th>\n",
       "      <td>Funeral Derangements</td>\n",
       "      <td>1</td>\n",
       "      <td>0</td>\n",
       "      <td>3</td>\n",
       "    </tr>\n",
       "    <tr>\n",
       "      <th>12</th>\n",
       "      <td>Take Your Pick (featuring Corpsegrinder)</td>\n",
       "      <td>6</td>\n",
       "      <td>1</td>\n",
       "      <td>0</td>\n",
       "    </tr>\n",
       "    <tr>\n",
       "      <th>13</th>\n",
       "      <td>The Shower Scene</td>\n",
       "      <td>0</td>\n",
       "      <td>0</td>\n",
       "      <td>8</td>\n",
       "    </tr>\n",
       "    <tr>\n",
       "      <th>14</th>\n",
       "      <td>Welcome to Horrorwood</td>\n",
       "      <td>4</td>\n",
       "      <td>0</td>\n",
       "      <td>0</td>\n",
       "    </tr>\n",
       "  </tbody>\n",
       "</table>\n",
       "</div>"
      ],
      "text/plain": [
       "                                                Title  person_count  \\\n",
       "0                              The American Nightmare             4   \n",
       "1                               Thank God It's Friday             3   \n",
       "2   Enjoy Your Slay (featuring Sam Kubrick of Shie...             5   \n",
       "3                                     A Grave Mistake             1   \n",
       "4                                Stabbing in the Dark             5   \n",
       "5                                       Merry Axe-mas             2   \n",
       "6                                             Savages            10   \n",
       "7   IT Is The End (featuring Peter \"JR\" Wasilewski...             7   \n",
       "8         Hip to Be Scared (featuring Jacoby Shaddix)             8   \n",
       "9                                 Assault & Batteries             4   \n",
       "10                                          Rainy Day             0   \n",
       "11                               Funeral Derangements             1   \n",
       "12           Take Your Pick (featuring Corpsegrinder)             6   \n",
       "13                                   The Shower Scene             0   \n",
       "14                              Welcome to Horrorwood             4   \n",
       "\n",
       "    place_count  time_count  \n",
       "0             0           4  \n",
       "1             8           6  \n",
       "2             0           1  \n",
       "3             0           1  \n",
       "4             0           7  \n",
       "5             0          14  \n",
       "6             0           0  \n",
       "7             0           2  \n",
       "8             0           0  \n",
       "9             0           1  \n",
       "10            0           2  \n",
       "11            0           3  \n",
       "12            1           0  \n",
       "13            0           8  \n",
       "14            0           0  "
      ]
     },
     "execution_count": 31,
     "metadata": {},
     "output_type": "execute_result"
    }
   ],
   "source": [
    "count_df"
   ]
  },
  {
   "cell_type": "code",
   "execution_count": 32,
   "id": "d3310650-92bc-40cd-ab80-01293faa9a1c",
   "metadata": {},
   "outputs": [],
   "source": [
    "most_ppl = playlist_df.sort_values(by = 'person_count', ascending = False).head(1)['Title'].values[0]\n",
    "most_plc = playlist_df.sort_values(by = 'place_count', ascending = False).head(1)['Title'].values[0]\n",
    "most_time = playlist_df.sort_values(by = 'time_count', ascending = False).head(1)['Title'].values[0]"
   ]
  },
  {
   "cell_type": "code",
   "execution_count": 33,
   "id": "cc8c0660-bb87-4106-840c-17dd5e236e9e",
   "metadata": {},
   "outputs": [
    {
     "name": "stdout",
     "output_type": "stream",
     "text": [
      "\"Savages\" has the highest person_count in this playlist\n",
      "\"Thank God It's Friday\" has the highest place_count in this playlist\n",
      "\"Merry Axe-mas\" has the highest time_count in this playlist\n"
     ]
    }
   ],
   "source": [
    "print (f'\"{most_ppl}\" has the highest person_count in this playlist')\n",
    "print(f'\"{most_plc}\" has the highest place_count in this playlist')\n",
    "print(f'\"{most_time}\" has the highest time_count in this playlist') "
   ]
  },
  {
   "cell_type": "markdown",
   "id": "5d1e4c6c-95e2-4fdc-bd48-292c2512cd04",
   "metadata": {},
   "source": [
    "The new dataframe count_df lists each song and their respective counts while the code blocks below it reveals the songs with the highest person, place, and time count respectively. "
   ]
  },
  {
   "cell_type": "markdown",
   "id": "8a2c684d-72d5-4e05-8ee5-64b59756b4c0",
   "metadata": {},
   "source": [
    "## Cleaning up and Exporting CSV"
   ]
  },
  {
   "cell_type": "code",
   "execution_count": 34,
   "id": "5caec4d8-6ad7-4dd8-a8c4-89d43cfed98a",
   "metadata": {},
   "outputs": [],
   "source": [
    "#Doc column is now redundant as is the Proper nouns column\n",
    "playlist_df = playlist_df.drop('Doc', axis = 1)\n",
    "playlist_df = playlist_df.drop('Proper_Nouns', axis = 1)"
   ]
  },
  {
   "cell_type": "code",
   "execution_count": 35,
   "id": "6ed5b06b-04fb-4157-98bc-dbdbff6523c0",
   "metadata": {},
   "outputs": [
    {
     "data": {
      "text/html": [
       "<div>\n",
       "<style scoped>\n",
       "    .dataframe tbody tr th:only-of-type {\n",
       "        vertical-align: middle;\n",
       "    }\n",
       "\n",
       "    .dataframe tbody tr th {\n",
       "        vertical-align: top;\n",
       "    }\n",
       "\n",
       "    .dataframe thead th {\n",
       "        text-align: right;\n",
       "    }\n",
       "</style>\n",
       "<table border=\"1\" class=\"dataframe\">\n",
       "  <thead>\n",
       "    <tr style=\"text-align: right;\">\n",
       "      <th></th>\n",
       "      <th>Filename</th>\n",
       "      <th>Title</th>\n",
       "      <th>Track Listing</th>\n",
       "      <th>Song Length</th>\n",
       "      <th>Release Date</th>\n",
       "      <th>Album</th>\n",
       "      <th>Horror Reference</th>\n",
       "      <th>Lyric Source</th>\n",
       "      <th>Text</th>\n",
       "      <th>Tokens</th>\n",
       "      <th>Lemmas</th>\n",
       "      <th>POS</th>\n",
       "      <th>Named_Entities</th>\n",
       "      <th>NE_Words</th>\n",
       "      <th>person_count</th>\n",
       "      <th>place_count</th>\n",
       "      <th>time_count</th>\n",
       "    </tr>\n",
       "  </thead>\n",
       "  <tbody>\n",
       "    <tr>\n",
       "      <th>0</th>\n",
       "      <td>american_nightmare</td>\n",
       "      <td>The American Nightmare</td>\n",
       "      <td>1</td>\n",
       "      <td>4:11</td>\n",
       "      <td>20-06-2018</td>\n",
       "      <td>The Silver Scream</td>\n",
       "      <td>A Nightmare on Elm Street</td>\n",
       "      <td>LyricFind</td>\n",
       "      <td>Getting ready for bed at a regular time Is one...</td>\n",
       "      <td>[Getting, ready, for, bed, at, a, regular, tim...</td>\n",
       "      <td>[get, ready, for, bed, at, a, regular, time, b...</td>\n",
       "      <td>[(VERB, VBG), (ADJ, JJ), (ADP, IN), (NOUN, NN)...</td>\n",
       "      <td>[PERSON, PERSON, PERSON, PRODUCT, TIME, NORP, ...</td>\n",
       "      <td>[(David), (Makes), (Rest), (Craven), (night), ...</td>\n",
       "      <td>4</td>\n",
       "      <td>0</td>\n",
       "      <td>4</td>\n",
       "    </tr>\n",
       "  </tbody>\n",
       "</table>\n",
       "</div>"
      ],
      "text/plain": [
       "             Filename                   Title  Track Listing Song Length  \\\n",
       "0  american_nightmare  The American Nightmare              1        4:11   \n",
       "\n",
       "  Release Date             Album            Horror Reference Lyric Source  \\\n",
       "0   20-06-2018  The Silver Scream  A Nightmare on Elm Street    LyricFind   \n",
       "\n",
       "                                                Text  \\\n",
       "0  Getting ready for bed at a regular time Is one...   \n",
       "\n",
       "                                              Tokens  \\\n",
       "0  [Getting, ready, for, bed, at, a, regular, tim...   \n",
       "\n",
       "                                              Lemmas  \\\n",
       "0  [get, ready, for, bed, at, a, regular, time, b...   \n",
       "\n",
       "                                                 POS  \\\n",
       "0  [(VERB, VBG), (ADJ, JJ), (ADP, IN), (NOUN, NN)...   \n",
       "\n",
       "                                      Named_Entities  \\\n",
       "0  [PERSON, PERSON, PERSON, PRODUCT, TIME, NORP, ...   \n",
       "\n",
       "                                            NE_Words  person_count  \\\n",
       "0  [(David), (Makes), (Rest), (Craven), (night), ...             4   \n",
       "\n",
       "   place_count  time_count  \n",
       "0            0           4  "
      ]
     },
     "execution_count": 35,
     "metadata": {},
     "output_type": "execute_result"
    }
   ],
   "source": [
    "playlist_df.head(1) #test"
   ]
  },
  {
   "cell_type": "code",
   "execution_count": 36,
   "id": "5f316ec3-cd9a-48bd-916a-3d509875b7c6",
   "metadata": {},
   "outputs": [],
   "source": [
    "#saving dataframe as csv file\n",
    "playlist_df.to_csv('INK_silverscream_singles_with_spaCy_tags.csv') "
   ]
  }
 ],
 "metadata": {
  "kernelspec": {
   "display_name": "Python 3 (ipykernel)",
   "language": "python",
   "name": "python3"
  },
  "language_info": {
   "codemirror_mode": {
    "name": "ipython",
    "version": 3
   },
   "file_extension": ".py",
   "mimetype": "text/x-python",
   "name": "python",
   "nbconvert_exporter": "python",
   "pygments_lexer": "ipython3",
   "version": "3.12.7"
  }
 },
 "nbformat": 4,
 "nbformat_minor": 5
}
